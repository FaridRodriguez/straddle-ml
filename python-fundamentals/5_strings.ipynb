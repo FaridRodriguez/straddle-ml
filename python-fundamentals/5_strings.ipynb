{
 "metadata": {
  "language_info": {
   "codemirror_mode": {
    "name": "ipython",
    "version": 3
   },
   "file_extension": ".py",
   "mimetype": "text/x-python",
   "name": "python",
   "nbconvert_exporter": "python",
   "pygments_lexer": "ipython3",
   "version": "3.8.5"
  },
  "orig_nbformat": 4,
  "kernelspec": {
   "name": "python3",
   "display_name": "Python 3.8.5 64-bit ('Python38')"
  },
  "interpreter": {
   "hash": "5c0372ed38b372118c24adb00d45654d76c8d10261533c5724e3f5fc1d75489a"
  }
 },
 "nbformat": 4,
 "nbformat_minor": 2,
 "cells": [
  {
   "source": [
    "# Strings\n",
    "Son lo que informalmente conocemos como 'texto'. Para definirlos usamos comillas o dobles comillas"
   ],
   "cell_type": "markdown",
   "metadata": {}
  },
  {
   "cell_type": "code",
   "execution_count": 1,
   "metadata": {},
   "outputs": [
    {
     "output_type": "execute_result",
     "data": {
      "text/plain": [
       "True"
      ]
     },
     "metadata": {},
     "execution_count": 1
    }
   ],
   "source": [
    "x = 'lunes es un dia'\n",
    "y = \"lunes es un dia\"\n",
    "x == y"
   ]
  },
  {
   "source": [
    "Las comillas dobles son particularmene utiles si el string ya contiene una comilla, y viceversa."
   ],
   "cell_type": "markdown",
   "metadata": {}
  },
  {
   "cell_type": "code",
   "execution_count": 2,
   "metadata": {},
   "outputs": [
    {
     "output_type": "stream",
     "name": "stdout",
     "text": [
      "Mi dia favorito se llama 'viernes'\nMi dia favorito se llama \"viernes\"\n"
     ]
    }
   ],
   "source": [
    "print(\"Mi dia favorito se llama 'viernes'\")\r\n",
    "print('Mi dia favorito se llama \"viernes\"')"
   ]
  },
  {
   "source": [
    "Se usa el `\\n` para insertar saltos de linea."
   ],
   "cell_type": "markdown",
   "metadata": {}
  },
  {
   "cell_type": "code",
   "execution_count": 3,
   "metadata": {},
   "outputs": [
    {
     "output_type": "stream",
     "name": "stdout",
     "text": [
      "hola\nmundo\n"
     ]
    }
   ],
   "source": [
    "hola = \"hola\\nmundo\"\n",
    "print(hola)"
   ]
  },
  {
   "source": [
    "Si formas un `string` usando triple comilla, Python entendera los \"enter\" como un salto de linea."
   ],
   "cell_type": "markdown",
   "metadata": {}
  },
  {
   "cell_type": "code",
   "execution_count": 4,
   "metadata": {},
   "outputs": [
    {
     "output_type": "stream",
     "name": "stdout",
     "text": [
      "hola\nmundo\n"
     ]
    }
   ],
   "source": [
    "hola_triple_comilla = \"\"\"hola\n",
    "mundo\"\"\"\n",
    "print(hola_triple_comilla)"
   ]
  },
  {
   "cell_type": "code",
   "execution_count": 5,
   "metadata": {},
   "outputs": [
    {
     "output_type": "execute_result",
     "data": {
      "text/plain": [
       "True"
      ]
     },
     "metadata": {},
     "execution_count": 5
    }
   ],
   "source": [
    "hola == hola_triple_comilla"
   ]
  },
  {
   "source": [
    "## Los string son secuencias"
   ],
   "cell_type": "markdown",
   "metadata": {}
  },
  {
   "source": [
    "Se puede hacerr *indexing* y *slicing* a los strings, tal como haciamos con las listas."
   ],
   "cell_type": "markdown",
   "metadata": {}
  },
  {
   "cell_type": "code",
   "execution_count": 6,
   "metadata": {},
   "outputs": [
    {
     "output_type": "execute_result",
     "data": {
      "text/plain": [
       "'i'"
      ]
     },
     "metadata": {},
     "execution_count": 6
    }
   ],
   "source": [
    "# indexing\n",
    "dia = \"viernes\"\n",
    "dia[1]"
   ]
  },
  {
   "cell_type": "code",
   "execution_count": 7,
   "metadata": {},
   "outputs": [
    {
     "output_type": "execute_result",
     "data": {
      "text/plain": [
       "'es'"
      ]
     },
     "metadata": {},
     "execution_count": 7
    }
   ],
   "source": [
    "# slicing\n",
    "dia[-2:]"
   ]
  },
  {
   "cell_type": "code",
   "execution_count": 8,
   "metadata": {},
   "outputs": [
    {
     "output_type": "execute_result",
     "data": {
      "text/plain": [
       "7"
      ]
     },
     "metadata": {},
     "execution_count": 8
    }
   ],
   "source": [
    "len(dia)"
   ]
  },
  {
   "source": [
    "Lo anterior implica que los `string` son iterables."
   ],
   "cell_type": "markdown",
   "metadata": {}
  },
  {
   "cell_type": "code",
   "execution_count": 9,
   "metadata": {},
   "outputs": [
    {
     "output_type": "stream",
     "name": "stdout",
     "text": [
      "v\ni\ne\nr\nn\ne\ns\n"
     ]
    }
   ],
   "source": [
    "for s in dia:\n",
    "    print(s)"
   ]
  },
  {
   "source": [
    "## Metodos para strings"
   ],
   "cell_type": "markdown",
   "metadata": {}
  },
  {
   "cell_type": "code",
   "execution_count": 10,
   "metadata": {},
   "outputs": [
    {
     "output_type": "execute_result",
     "data": {
      "text/plain": [
       "'VIERNES ES UN DIA!'"
      ]
     },
     "metadata": {},
     "execution_count": 10
    }
   ],
   "source": [
    "# convertir a mayusculas\n",
    "frase = \"Viernes es un dia!\"\n",
    "frase.upper()"
   ]
  },
  {
   "cell_type": "code",
   "execution_count": 11,
   "metadata": {},
   "outputs": [
    {
     "output_type": "execute_result",
     "data": {
      "text/plain": [
       "'viernes es un dia!'"
      ]
     },
     "metadata": {},
     "execution_count": 11
    }
   ],
   "source": [
    "# convertir a minusculas\n",
    "frase.lower()"
   ]
  },
  {
   "cell_type": "code",
   "execution_count": 12,
   "metadata": {},
   "outputs": [
    {
     "output_type": "execute_result",
     "data": {
      "text/plain": [
       "5"
      ]
     },
     "metadata": {},
     "execution_count": 12
    }
   ],
   "source": [
    "# encontrar el indice de la primera ocurrencia de un substring\n",
    "frase.index(\"es\")"
   ]
  },
  {
   "cell_type": "code",
   "execution_count": 13,
   "metadata": {},
   "outputs": [
    {
     "output_type": "stream",
     "name": "stdout",
     "text": [
      "True\nTrue\nFalse\n"
     ]
    }
   ],
   "source": [
    "# evaluar el inicio o fin e un string\n",
    "print(frase.startswith(\"Vie\"))\n",
    "print(frase.endswith(\"a!\"))\n",
    "\n",
    "# python es sensible a las mayusculas\n",
    "print(frase.startswith(\"vie\"))"
   ]
  },
  {
   "source": [
    "`string.slpit()` es bastante util para almacenar segmentos de un `string` separadas por un delimitador."
   ],
   "cell_type": "markdown",
   "metadata": {}
  },
  {
   "cell_type": "code",
   "execution_count": 14,
   "metadata": {},
   "outputs": [
    {
     "output_type": "stream",
     "name": "stdout",
     "text": [
      "1844\n"
     ]
    }
   ],
   "source": [
    "fecha = \"1844-05-23\"\n",
    "ano, mes, dia = fecha.split(\"-\")\n",
    "print(ano)"
   ]
  },
  {
   "source": [
    "## `f-strings`\n",
    "Es la mejor manera de incorporar valores de variables en un `string`, y algo que encanta todo Python-lover!"
   ],
   "cell_type": "markdown",
   "metadata": {}
  },
  {
   "cell_type": "code",
   "execution_count": 15,
   "metadata": {},
   "outputs": [
    {
     "output_type": "stream",
     "name": "stdout",
     "text": [
      "La semana tiene 7 dias, pero solo 5 son laborables.\n"
     ]
    }
   ],
   "source": [
    "x = 7\n",
    "y = 5\n",
    "print(f\"La semana tiene {x} dias, pero solo {y} son laborables.\")"
   ]
  },
  {
   "source": [
    "## Caracteres unicode\n",
    "Python admite caracteres unicode en tus `strings`. Y si esto incluye emojis! :)"
   ],
   "cell_type": "markdown",
   "metadata": {}
  },
  {
   "cell_type": "code",
   "execution_count": 16,
   "metadata": {},
   "outputs": [
    {
     "output_type": "stream",
     "name": "stdout",
     "text": [
      "Python no deja de sorprenderme! 🐍😍\n"
     ]
    }
   ],
   "source": [
    "print(\"Python no deja de sorprenderme! 🐍😍\")"
   ]
  }
 ]
}