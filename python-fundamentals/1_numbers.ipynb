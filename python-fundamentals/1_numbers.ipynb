{
 "metadata": {
  "language_info": {
   "codemirror_mode": {
    "name": "ipython",
    "version": 3
   },
   "file_extension": ".py",
   "mimetype": "text/x-python",
   "name": "python",
   "nbconvert_exporter": "python",
   "pygments_lexer": "ipython3",
   "version": "3.8.5"
  },
  "orig_nbformat": 4,
  "kernelspec": {
   "name": "python3",
   "display_name": "Python 3.8.5 64-bit ('straddle-env': venv)"
  },
  "interpreter": {
   "hash": "09403dfe477f1bd99590bb45034fc9885baf03a38d96d033f04e2f88c9b9256c"
  }
 },
 "nbformat": 4,
 "nbformat_minor": 2,
 "cells": [
  {
   "source": [
    "# Numeros y aritmetica en Python\n",
    "\n",
    "Asignemos el monto que tenemos en nuesta cartera a una variable llamada ```mi_monto```:"
   ],
   "cell_type": "markdown",
   "metadata": {}
  },
  {
   "cell_type": "code",
   "execution_count": 1,
   "metadata": {},
   "outputs": [],
   "source": [
    "mi_monto = 100"
   ]
  },
  {
   "source": [
    "Podriamos decir que `mi_monto` es un \"numero\", pero ese termino es algo informal. Para ser mas tecnicos, preguntemos a python el tipo de `mi_monto`:"
   ],
   "cell_type": "markdown",
   "metadata": {}
  },
  {
   "cell_type": "code",
   "execution_count": 2,
   "metadata": {},
   "outputs": [
    {
     "output_type": "execute_result",
     "data": {
      "text/plain": [
       "int"
      ]
     },
     "metadata": {},
     "execution_count": 2
    }
   ],
   "source": [
    "type(mi_monto)"
   ]
  },
  {
   "cell_type": "code",
   "execution_count": 3,
   "metadata": {},
   "outputs": [
    {
     "output_type": "execute_result",
     "data": {
      "text/plain": [
       "float"
      ]
     },
     "metadata": {},
     "execution_count": 3
    }
   ],
   "source": [
    "otro_monto = 100.95\n",
    "type(otro_monto)"
   ]
  },
  {
   "source": [
    "## Operaciones aritmeticas basicas en Python\n",
    "<br>\n",
    "\n",
    "| **Operador** | **Nombre**     | **Descripcion**                                             |\n",
    "|--------------|----------------|-------------------------------------------------------------|\n",
    "| ``a + b``    | Addition       | Suma de ``a`` y ``b``                                       |\n",
    "| ``a - b``    | Subtraction    | Diferencia de ``a`` y ``b``                                 |\n",
    "| ``a * b``    | Multiplication | Producto de ``a`` y ``b``                                   |\n",
    "| ``a / b``    | True division  | Cociente de ``a`` y ``b``                                   |\n",
    "| ``a // b``   | Floor division | Cociente de ``a`` y ``b``, removiento la parte fraccional   |\n",
    "| ``a % b``    | Modulus        | Residuo entero de la division de ``a`` entre ``b``          |\n",
    "| ``a ** b``   | Exponentiation | ``a`` elevado a la potencia de ``b``                        |\n",
    "| ``-a``       | Negation       | El negativo de ``a``                                        |\n",
    "\n",
    "Fuente: https://docs.python.org/3/library/operator.html"
   ],
   "cell_type": "markdown",
   "metadata": {}
  },
  {
   "source": [
    "Algo a tener presente es que las divisiones (*true division*) siempre arrojaran un `float`:"
   ],
   "cell_type": "markdown",
   "metadata": {}
  },
  {
   "cell_type": "code",
   "execution_count": 4,
   "metadata": {},
   "outputs": [
    {
     "output_type": "stream",
     "name": "stdout",
     "text": [
      "2.5\n3.0\n"
     ]
    }
   ],
   "source": [
    "print(5 / 2)\n",
    "print(6 / 2)"
   ]
  },
  {
   "source": [
    "No ocurre lo mismo con el operador *floor division*:"
   ],
   "cell_type": "markdown",
   "metadata": {}
  },
  {
   "cell_type": "code",
   "execution_count": 5,
   "metadata": {},
   "outputs": [
    {
     "output_type": "stream",
     "name": "stdout",
     "text": [
      "2\n3\n"
     ]
    }
   ],
   "source": [
    "print(5 // 2)\n",
    "print(6 // 2)"
   ]
  },
  {
   "source": [
    "## Orden de las operaciones\n",
    "Es tal como la aritmetica que conocemos. Podemos usar la mnemotecnia **PEMDAS**: **P**arentesis, **E**xponentes, **M**ultiplicacion/**D**ivision, **A**dicion/**S**ubstraccion."
   ],
   "cell_type": "markdown",
   "metadata": {}
  },
  {
   "cell_type": "code",
   "execution_count": 6,
   "metadata": {},
   "outputs": [
    {
     "output_type": "execute_result",
     "data": {
      "text/plain": [
       "7"
      ]
     },
     "metadata": {},
     "execution_count": 6
    }
   ],
   "source": [
    "8 - 3 + 2"
   ]
  },
  {
   "cell_type": "code",
   "execution_count": 7,
   "metadata": {},
   "outputs": [
    {
     "output_type": "execute_result",
     "data": {
      "text/plain": [
       "5"
      ]
     },
     "metadata": {},
     "execution_count": 7
    }
   ],
   "source": [
    "-3 + 4 * 2"
   ]
  },
  {
   "cell_type": "code",
   "execution_count": 8,
   "metadata": {},
   "outputs": [
    {
     "output_type": "execute_result",
     "data": {
      "text/plain": [
       "2.0"
      ]
     },
     "metadata": {},
     "execution_count": 8
    }
   ],
   "source": [
    "mi_altura_cm = 175\n",
    "mi_sombrero_cm = 25\n",
    "altura_total_metros = (mi_altura_cm + mi_sombrero_cm) / 100\n",
    "altura_total_metros"
   ]
  },
  {
   "source": [
    "## Built-in functions para numeros\n",
    "`min` y `max` devuelven el minimo y maximo de sus argumentos, respectivamente."
   ],
   "cell_type": "markdown",
   "metadata": {}
  },
  {
   "cell_type": "code",
   "execution_count": 9,
   "metadata": {},
   "outputs": [
    {
     "output_type": "stream",
     "name": "stdout",
     "text": [
      "1\n3\n"
     ]
    }
   ],
   "source": [
    "print(min(1, 2, 3))\n",
    "print(max(1, 2, 3))"
   ]
  },
  {
   "source": [
    "`abs` devuelve el valor absoluto de un argumento."
   ],
   "cell_type": "markdown",
   "metadata": {}
  },
  {
   "cell_type": "code",
   "execution_count": 10,
   "metadata": {},
   "outputs": [
    {
     "output_type": "stream",
     "name": "stdout",
     "text": [
      "42\n42\n"
     ]
    }
   ],
   "source": [
    "print(abs(42))\n",
    "print(abs(-42))"
   ]
  },
  {
   "source": [
    "`int` y `float`, ademas de ser tipos numericos, tambien son funciones que pueden convertir su argumento (incluso si es `string`) en el tipo correspondiente:"
   ],
   "cell_type": "markdown",
   "metadata": {}
  },
  {
   "cell_type": "code",
   "execution_count": 11,
   "metadata": {},
   "outputs": [
    {
     "output_type": "stream",
     "name": "stdout",
     "text": [
      "10.0\n"
     ]
    }
   ],
   "source": [
    "print(float(10))"
   ]
  },
  {
   "cell_type": "code",
   "execution_count": 12,
   "metadata": {},
   "outputs": [
    {
     "output_type": "stream",
     "name": "stdout",
     "text": [
      "9\n"
     ]
    }
   ],
   "source": [
    "print(int(9.9))"
   ]
  },
  {
   "cell_type": "code",
   "execution_count": 13,
   "metadata": {},
   "outputs": [
    {
     "output_type": "stream",
     "name": "stdout",
     "text": [
      "10\n"
     ]
    }
   ],
   "source": [
    "print(int(\"9\") + 1)"
   ]
  }
 ]
}