{
 "metadata": {
  "language_info": {
   "codemirror_mode": {
    "name": "ipython",
    "version": 3
   },
   "file_extension": ".py",
   "mimetype": "text/x-python",
   "name": "python",
   "nbconvert_exporter": "python",
   "pygments_lexer": "ipython3",
   "version": "3.8.5"
  },
  "orig_nbformat": 4,
  "kernelspec": {
   "name": "python3",
   "display_name": "Python 3.8.5 64-bit ('Python38')"
  },
  "interpreter": {
   "hash": "5c0372ed38b372118c24adb00d45654d76c8d10261533c5724e3f5fc1d75489a"
  }
 },
 "nbformat": 4,
 "nbformat_minor": 2,
 "cells": [
  {
   "source": [
    "# Funciones\n",
    "Para encontrar ayuda sobre una funcion, se usa `help()`. El argumento solo debe ser el nombre de la funcion."
   ],
   "cell_type": "markdown",
   "metadata": {}
  },
  {
   "cell_type": "code",
   "execution_count": 1,
   "metadata": {},
   "outputs": [
    {
     "output_type": "stream",
     "name": "stdout",
     "text": [
      "Help on built-in function round in module builtins:\n\nround(number, ndigits=None)\n    Round a number to a given precision in decimal digits.\n    \n    The return value is an integer if ndigits is omitted or None.  Otherwise\n    the return value has the same type as the number.  ndigits may be negative.\n\n"
     ]
    }
   ],
   "source": [
    "help(round)"
   ]
  },
  {
   "source": [
    "**Cuidado:** Si se pone el nombre y argumentos de la funcion, Python evaluara la expresion y la ayuda sera sobre el resultado de la evaluacion, no sobre la funcion en general."
   ],
   "cell_type": "markdown",
   "metadata": {}
  },
  {
   "cell_type": "code",
   "execution_count": 2,
   "metadata": {},
   "outputs": [
    {
     "output_type": "stream",
     "name": "stdout",
     "text": [
      "Help on int object:\n\nclass int(object)\n |  int([x]) -> integer\n |  int(x, base=10) -> integer\n |  \n |  Convert a number or string to an integer, or return 0 if no arguments\n |  are given.  If x is a number, return x.__int__().  For floating point\n |  numbers, this truncates towards zero.\n |  \n |  If x is not a number or if base is given, then x must be a string,\n |  bytes, or bytearray instance representing an integer literal in the\n |  given base.  The literal can be preceded by '+' or '-' and be surrounded\n |  by whitespace.  The base defaults to 10.  Valid bases are 0 and 2-36.\n |  Base 0 means to interpret the base from the string as an integer literal.\n |  >>> int('0b100', base=0)\n |  4\n |  \n |  Built-in subclasses:\n |      bool\n |  \n |  Methods defined here:\n |  \n |  __abs__(self, /)\n |      abs(self)\n |  \n |  __add__(self, value, /)\n |      Return self+value.\n |  \n |  __and__(self, value, /)\n |      Return self&value.\n |  \n |  __bool__(self, /)\n |      self != 0\n |  \n |  __ceil__(...)\n |      Ceiling of an Integral returns itself.\n |  \n |  __divmod__(self, value, /)\n |      Return divmod(self, value).\n |  \n |  __eq__(self, value, /)\n |      Return self==value.\n |  \n |  __float__(self, /)\n |      float(self)\n |  \n |  __floor__(...)\n |      Flooring an Integral returns itself.\n |  \n |  __floordiv__(self, value, /)\n |      Return self//value.\n |  \n |  __format__(self, format_spec, /)\n |      Default object formatter.\n |  \n |  __ge__(self, value, /)\n |      Return self>=value.\n |  \n |  __getattribute__(self, name, /)\n |      Return getattr(self, name).\n |  \n |  __getnewargs__(self, /)\n |  \n |  __gt__(self, value, /)\n |      Return self>value.\n |  \n |  __hash__(self, /)\n |      Return hash(self).\n |  \n |  __index__(self, /)\n |      Return self converted to an integer, if self is suitable for use as an index into a list.\n |  \n |  __int__(self, /)\n |      int(self)\n |  \n |  __invert__(self, /)\n |      ~self\n |  \n |  __le__(self, value, /)\n |      Return self<=value.\n |  \n |  __lshift__(self, value, /)\n |      Return self<<value.\n |  \n |  __lt__(self, value, /)\n |      Return self<value.\n |  \n |  __mod__(self, value, /)\n |      Return self%value.\n |  \n |  __mul__(self, value, /)\n |      Return self*value.\n |  \n |  __ne__(self, value, /)\n |      Return self!=value.\n |  \n |  __neg__(self, /)\n |      -self\n |  \n |  __or__(self, value, /)\n |      Return self|value.\n |  \n |  __pos__(self, /)\n |      +self\n |  \n |  __pow__(self, value, mod=None, /)\n |      Return pow(self, value, mod).\n |  \n |  __radd__(self, value, /)\n |      Return value+self.\n |  \n |  __rand__(self, value, /)\n |      Return value&self.\n |  \n |  __rdivmod__(self, value, /)\n |      Return divmod(value, self).\n |  \n |  __repr__(self, /)\n |      Return repr(self).\n |  \n |  __rfloordiv__(self, value, /)\n |      Return value//self.\n |  \n |  __rlshift__(self, value, /)\n |      Return value<<self.\n |  \n |  __rmod__(self, value, /)\n |      Return value%self.\n |  \n |  __rmul__(self, value, /)\n |      Return value*self.\n |  \n |  __ror__(self, value, /)\n |      Return value|self.\n |  \n |  __round__(...)\n |      Rounding an Integral returns itself.\n |      Rounding with an ndigits argument also returns an integer.\n |  \n |  __rpow__(self, value, mod=None, /)\n |      Return pow(value, self, mod).\n |  \n |  __rrshift__(self, value, /)\n |      Return value>>self.\n |  \n |  __rshift__(self, value, /)\n |      Return self>>value.\n |  \n |  __rsub__(self, value, /)\n |      Return value-self.\n |  \n |  __rtruediv__(self, value, /)\n |      Return value/self.\n |  \n |  __rxor__(self, value, /)\n |      Return value^self.\n |  \n |  __sizeof__(self, /)\n |      Returns size in memory, in bytes.\n |  \n |  __sub__(self, value, /)\n |      Return self-value.\n |  \n |  __truediv__(self, value, /)\n |      Return self/value.\n |  \n |  __trunc__(...)\n |      Truncating an Integral returns itself.\n |  \n |  __xor__(self, value, /)\n |      Return self^value.\n |  \n |  as_integer_ratio(self, /)\n |      Return integer ratio.\n |      \n |      Return a pair of integers, whose ratio is exactly equal to the original int\n |      and with a positive denominator.\n |      \n |      >>> (10).as_integer_ratio()\n |      (10, 1)\n |      >>> (-10).as_integer_ratio()\n |      (-10, 1)\n |      >>> (0).as_integer_ratio()\n |      (0, 1)\n |  \n |  bit_length(self, /)\n |      Number of bits necessary to represent self in binary.\n |      \n |      >>> bin(37)\n |      '0b100101'\n |      >>> (37).bit_length()\n |      6\n |  \n |  conjugate(...)\n |      Returns self, the complex conjugate of any int.\n |  \n |  to_bytes(self, /, length, byteorder, *, signed=False)\n |      Return an array of bytes representing an integer.\n |      \n |      length\n |        Length of bytes object to use.  An OverflowError is raised if the\n |        integer is not representable with the given number of bytes.\n |      byteorder\n |        The byte order used to represent the integer.  If byteorder is 'big',\n |        the most significant byte is at the beginning of the byte array.  If\n |        byteorder is 'little', the most significant byte is at the end of the\n |        byte array.  To request the native byte order of the host system, use\n |        `sys.byteorder' as the byte order value.\n |      signed\n |        Determines whether two's complement is used to represent the integer.\n |        If signed is False and a negative integer is given, an OverflowError\n |        is raised.\n |  \n |  ----------------------------------------------------------------------\n |  Class methods defined here:\n |  \n |  from_bytes(bytes, byteorder, *, signed=False) from builtins.type\n |      Return the integer represented by the given array of bytes.\n |      \n |      bytes\n |        Holds the array of bytes to convert.  The argument must either\n |        support the buffer protocol or be an iterable object producing bytes.\n |        Bytes and bytearray are examples of built-in objects that support the\n |        buffer protocol.\n |      byteorder\n |        The byte order used to represent the integer.  If byteorder is 'big',\n |        the most significant byte is at the beginning of the byte array.  If\n |        byteorder is 'little', the most significant byte is at the end of the\n |        byte array.  To request the native byte order of the host system, use\n |        `sys.byteorder' as the byte order value.\n |      signed\n |        Indicates whether two's complement is used to represent the integer.\n |  \n |  ----------------------------------------------------------------------\n |  Static methods defined here:\n |  \n |  __new__(*args, **kwargs) from builtins.type\n |      Create and return a new object.  See help(type) for accurate signature.\n |  \n |  ----------------------------------------------------------------------\n |  Data descriptors defined here:\n |  \n |  denominator\n |      the denominator of a rational number in lowest terms\n |  \n |  imag\n |      the imaginary part of a complex number\n |  \n |  numerator\n |      the numerator of a rational number in lowest terms\n |  \n |  real\n |      the real part of a complex number\n\n"
     ]
    }
   ],
   "source": [
    "help(round(5.23))"
   ]
  },
  {
   "source": [
    "## Definir funciones propias\n",
    "Veamos un ejemplo. Vamos a definir una funcion que encuentra la diferencia minima entre tres numeros."
   ],
   "cell_type": "markdown",
   "metadata": {}
  },
  {
   "cell_type": "code",
   "execution_count": 3,
   "metadata": {},
   "outputs": [],
   "source": [
    "def minima_diferencia(a, b, c):\n",
    "    dif1 = abs(a - b)\n",
    "    dif2 = abs(b - c)\n",
    "    dif3 = abs(a - c)\n",
    "    return min(dif1, dif2, dif3)"
   ]
  },
  {
   "source": [
    "Este codigo crea una funcion llamada `minima_diferencia` que toma tres argumentos: `a`, `b` y `c`.\n",
    "\n",
    "Crear funciones requiere un header que empieza con el keyword `def` seguido del nombre de la funcion y los argumentos entre parentesis y separados por comas. El codigo indentado posterior al `:` sera corrido cuando la funcion sea invocada.\n",
    "\n",
    "Probemos la funcion:"
   ],
   "cell_type": "markdown",
   "metadata": {}
  },
  {
   "cell_type": "code",
   "execution_count": 4,
   "metadata": {},
   "outputs": [
    {
     "output_type": "stream",
     "name": "stdout",
     "text": [
      "9\n9\n1\n"
     ]
    }
   ],
   "source": [
    "print(minima_diferencia(1, 10, 100))\n",
    "print(minima_diferencia(1, 10, 100))\n",
    "print(minima_diferencia(5, 6, 7))"
   ]
  },
  {
   "source": [
    "Que pasa si alguien le pidiera ayuda a Python sobre la funcion que acabamos de definir?"
   ],
   "cell_type": "markdown",
   "metadata": {}
  },
  {
   "cell_type": "code",
   "execution_count": 5,
   "metadata": {},
   "outputs": [
    {
     "output_type": "stream",
     "name": "stdout",
     "text": [
      "Help on function minima_diferencia in module __main__:\n\nminima_diferencia(a, b, c)\n\n"
     ]
    }
   ],
   "source": [
    "help(minima_diferencia)"
   ]
  },
  {
   "source": [
    "Seguiria igual de confundido. Por eso, siempre que definamos una funcion, es util acompanarla de una descripcion llamada *documentation string* o ***docstring***."
   ],
   "cell_type": "markdown",
   "metadata": {}
  },
  {
   "source": [
    "## Docstrings\n",
    "Los *docstrings* son una documentacion sencilla que incorporamos en la definicion de una funcion. Para generarlos se usa comillas triples (\"\"\")."
   ],
   "cell_type": "markdown",
   "metadata": {}
  },
  {
   "cell_type": "code",
   "execution_count": 6,
   "metadata": {},
   "outputs": [],
   "source": [
    "def minima_diferencia(a, b, c):\n",
    "    \"\"\"Devuelve la menor diferencia dos a dos entre los numeros a, b y c.\n",
    "\n",
    "    >>>> least_difference(1, 5, -5)\n",
    "    4\n",
    "    \"\"\"\n",
    "    dif1 = abs(a - b)\n",
    "    dif2 = abs(b - c)\n",
    "    dif3 = abs(a - c)\n",
    "    return min(dif1, dif2, dif3)"
   ]
  },
  {
   "source": [
    "Ahora si se usa `help()` sobre la nueva funcion, el usuario podra comprenderla mejor."
   ],
   "cell_type": "markdown",
   "metadata": {}
  },
  {
   "cell_type": "code",
   "execution_count": 7,
   "metadata": {},
   "outputs": [
    {
     "output_type": "stream",
     "name": "stdout",
     "text": [
      "Help on function minima_diferencia in module __main__:\n\nminima_diferencia(a, b, c)\n    Devuelve la menor diferencia dos a dos entre los numeros a, b y c.\n    \n    >>>> least_difference(1, 5, -5)\n    4\n\n"
     ]
    }
   ],
   "source": [
    "help(minima_diferencia)"
   ]
  },
  {
   "source": [
    "Documentar es una muestra de cortesia hacia el usuario (ya sean terceros o nuestro futuro yo) y es la mejor practica. Para una guia de estilo sobre docstrings ver: https://www.python.org/dev/peps/pep-0008/#documentation-strings"
   ],
   "cell_type": "markdown",
   "metadata": {}
  },
  {
   "source": [
    "## Default (optional) arguments\n",
    "Podemos hacer que los argumentos de una funcion tomen valores por defecto si el usuario no los especifica. En ese sentido, dichos valores se consideran opcionales. Veamos un ejemplo."
   ],
   "cell_type": "markdown",
   "metadata": {}
  },
  {
   "cell_type": "code",
   "execution_count": 8,
   "metadata": {},
   "outputs": [],
   "source": [
    "def saludar(persona=\"mundo\"):\n",
    "    print(\"Hola,\", persona)"
   ]
  },
  {
   "cell_type": "code",
   "execution_count": 9,
   "metadata": {},
   "outputs": [
    {
     "output_type": "stream",
     "name": "stdout",
     "text": [
      "Hola, mundo\n"
     ]
    }
   ],
   "source": [
    "saludar()"
   ]
  },
  {
   "cell_type": "code",
   "execution_count": 10,
   "metadata": {},
   "outputs": [
    {
     "output_type": "stream",
     "name": "stdout",
     "text": [
      "Hola, mama\nHola, heramno\n"
     ]
    }
   ],
   "source": [
    "saludar(persona=\"mama\")\n",
    "saludar(\"heramno\")"
   ]
  },
  {
   "source": [
    "## High-order functions\n",
    "Las funciones de \"alto orden\" son aquellas que operan sobre otras funciones. Por ejemplo, la funcion `max()` tiene un argumento opcional `key` con el que podemos aplicar una funcion a los otros argumentos:"
   ],
   "cell_type": "markdown",
   "metadata": {}
  },
  {
   "cell_type": "code",
   "execution_count": 11,
   "metadata": {},
   "outputs": [],
   "source": [
    "def modulo_5(x):\n",
    "    \"\"\"Devuelve el residuo de dividir x entre 5.\"\"\"\n",
    "    return x % 5"
   ]
  },
  {
   "cell_type": "code",
   "execution_count": 12,
   "metadata": {},
   "outputs": [
    {
     "output_type": "execute_result",
     "data": {
      "text/plain": [
       "100"
      ]
     },
     "metadata": {},
     "execution_count": 12
    }
   ],
   "source": [
    "max(100, 51, 15)"
   ]
  },
  {
   "cell_type": "code",
   "execution_count": 13,
   "metadata": {},
   "outputs": [
    {
     "output_type": "execute_result",
     "data": {
      "text/plain": [
       "51"
      ]
     },
     "metadata": {},
     "execution_count": 13
    }
   ],
   "source": [
    "max(100, 51, 15, key=modulo_5)"
   ]
  },
  {
   "source": [
    "Definamos una funcion de alto orden llamada `call`."
   ],
   "cell_type": "markdown",
   "metadata": {}
  },
  {
   "cell_type": "code",
   "execution_count": 14,
   "metadata": {},
   "outputs": [],
   "source": [
    "def call(fn, arg):\n",
    "    \"\"\"Invoca fn sobre arg.\"\"\"\n",
    "    return(fn(arg))"
   ]
  },
  {
   "cell_type": "code",
   "execution_count": 15,
   "metadata": {},
   "outputs": [
    {
     "output_type": "stream",
     "name": "stdout",
     "text": [
      "4\n10\n"
     ]
    }
   ],
   "source": [
    "print(call(round, 3.57))\n",
    "print(call(round, 10.4))"
   ]
  }
 ]
}