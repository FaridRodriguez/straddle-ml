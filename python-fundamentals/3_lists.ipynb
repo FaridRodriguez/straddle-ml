{
 "metadata": {
  "language_info": {
   "codemirror_mode": {
    "name": "ipython",
    "version": 3
   },
   "file_extension": ".py",
   "mimetype": "text/x-python",
   "name": "python",
   "nbconvert_exporter": "python",
   "pygments_lexer": "ipython3",
   "version": "3.8.5"
  },
  "orig_nbformat": 4,
  "kernelspec": {
   "name": "python3",
   "display_name": "Python 3.8.5 64-bit ('Python38')"
  },
  "interpreter": {
   "hash": "5c0372ed38b372118c24adb00d45654d76c8d10261533c5724e3f5fc1d75489a"
  }
 },
 "nbformat": 4,
 "nbformat_minor": 2,
 "cells": [
  {
   "source": [
    "# Listas\n",
    "Las listas en Python representan secuencias ordenadas de valores. Para definirlas se usan `[]`."
   ],
   "cell_type": "markdown",
   "metadata": {}
  },
  {
   "cell_type": "code",
   "execution_count": 1,
   "metadata": {},
   "outputs": [
    {
     "output_type": "execute_result",
     "data": {
      "text/plain": [
       "[1, 3, 5]"
      ]
     },
     "metadata": {},
     "execution_count": 1
    }
   ],
   "source": [
    "impares = [1, 3, 5]\n",
    "impares"
   ]
  },
  {
   "cell_type": "code",
   "execution_count": 2,
   "metadata": {},
   "outputs": [
    {
     "output_type": "execute_result",
     "data": {
      "text/plain": [
       "['domingo', 'lunes', 'martes', 'miercoles', 'jueves', 'viernes', 'sabado']"
      ]
     },
     "metadata": {},
     "execution_count": 2
    }
   ],
   "source": [
    "dias = ['domingo', 'lunes', 'martes', 'miercoles', 'jueves', 'viernes', 'sabado']\n",
    "dias"
   ]
  },
  {
   "source": [
    "Los elementos de la lista no necesariamente tienen que ser del mismo tipo:"
   ],
   "cell_type": "markdown",
   "metadata": {}
  },
  {
   "cell_type": "code",
   "execution_count": 3,
   "metadata": {},
   "outputs": [
    {
     "output_type": "execute_result",
     "data": {
      "text/plain": [
       "[3, 'gato', '10']"
      ]
     },
     "metadata": {},
     "execution_count": 3
    }
   ],
   "source": [
    "mix = [3, 'gato', '10']\n",
    "mix"
   ]
  },
  {
   "source": [
    "Tambien se puede hacer listas de listas."
   ],
   "cell_type": "markdown",
   "metadata": {}
  },
  {
   "cell_type": "code",
   "execution_count": 4,
   "metadata": {},
   "outputs": [
    {
     "output_type": "execute_result",
     "data": {
      "text/plain": [
       "[['1', '2', '3'], ['A', 'B', 'C'], ['Q', '9', 'E']]"
      ]
     },
     "metadata": {},
     "execution_count": 4
    }
   ],
   "source": [
    "lista_de_listas = [\n",
    "    ['1', '2', '3'],\n",
    "    ['A', 'B', 'C'],\n",
    "    ['Q', '9', 'E']\n",
    "]\n",
    "lista_de_listas"
   ]
  },
  {
   "source": [
    "# Indexing\n",
    "Es la funcionalidad que permite acceder a elementos individuales de una lista. Para ello se pone el nombre de la lista seguido del numero indice entre `[]`.\n",
    "\n",
    "Cual es el primer dia de la semana?"
   ],
   "cell_type": "markdown",
   "metadata": {}
  },
  {
   "cell_type": "code",
   "execution_count": 5,
   "metadata": {},
   "outputs": [
    {
     "output_type": "execute_result",
     "data": {
      "text/plain": [
       "'domingo'"
      ]
     },
     "metadata": {},
     "execution_count": 5
    }
   ],
   "source": [
    "dias[0]"
   ]
  },
  {
   "source": [
    "Notese que el primer elemento tiene indice `0` (no 1); el segundo elemento tiene indice `1` y asi sucesivamente. Este *feature* de Python se conoce como ***zero indexing***."
   ],
   "cell_type": "markdown",
   "metadata": {}
  },
  {
   "cell_type": "code",
   "execution_count": 6,
   "metadata": {},
   "outputs": [
    {
     "output_type": "stream",
     "name": "stdout",
     "text": [
      "domingo\nlunes\nmartes\n"
     ]
    }
   ],
   "source": [
    "print(dias[0])\n",
    "print(dias[1])\n",
    "print(dias[2])"
   ]
  },
  {
   "source": [
    "Para ver el ultimo elemento se puede usar `-1`, para el penultimo `-2`, y asi sucesivamente."
   ],
   "cell_type": "markdown",
   "metadata": {}
  },
  {
   "cell_type": "code",
   "execution_count": 7,
   "metadata": {},
   "outputs": [
    {
     "output_type": "stream",
     "name": "stdout",
     "text": [
      "sabado\nviernes\njueves\n"
     ]
    }
   ],
   "source": [
    "print(dias[-1])\n",
    "print(dias[-2])\n",
    "print(dias[-3])"
   ]
  },
  {
   "source": [
    "# Slicing\n",
    "Es la funcionalidad que permite acceder a segmentos de la lista. Para ello se usa `[:]`.\n",
    "\n",
    "Cuales son los tres primeros dias de la semana?"
   ],
   "cell_type": "markdown",
   "metadata": {}
  },
  {
   "cell_type": "code",
   "execution_count": 8,
   "metadata": {},
   "outputs": [
    {
     "output_type": "execute_result",
     "data": {
      "text/plain": [
       "['domingo', 'lunes', 'martes']"
      ]
     },
     "metadata": {},
     "execution_count": 8
    }
   ],
   "source": [
    "dias[0:3]"
   ]
  },
  {
   "source": [
    "Notese algo muy importante: `dias[0,3]` fue nuestra forma de acceder a los dias empezando por el index 0 continuando *hasta pero sin incluir* al 3.\n",
    "\n",
    "El inicio y el fin en el *slicing* son opcionales. Si no se indica el primer indice, Python asume que es 0."
   ],
   "cell_type": "markdown",
   "metadata": {}
  },
  {
   "cell_type": "code",
   "execution_count": 9,
   "metadata": {},
   "outputs": [
    {
     "output_type": "execute_result",
     "data": {
      "text/plain": [
       "['domingo', 'lunes', 'martes']"
      ]
     },
     "metadata": {},
     "execution_count": 9
    }
   ],
   "source": [
    "dias[:3]"
   ]
  },
  {
   "source": [
    "Si no se pone el segundo indice, Python asume -1 (el ultimo)."
   ],
   "cell_type": "markdown",
   "metadata": {}
  },
  {
   "cell_type": "code",
   "execution_count": 10,
   "metadata": {},
   "outputs": [
    {
     "output_type": "execute_result",
     "data": {
      "text/plain": [
       "['miercoles', 'jueves', 'viernes', 'sabado']"
      ]
     },
     "metadata": {},
     "execution_count": 10
    }
   ],
   "source": [
    "dias[3:]"
   ]
  },
  {
   "source": [
    "Si no se pone ningun indice, Python asume 0 y -1 (coge todo)."
   ],
   "cell_type": "markdown",
   "metadata": {}
  },
  {
   "cell_type": "code",
   "execution_count": 11,
   "metadata": {},
   "outputs": [
    {
     "output_type": "execute_result",
     "data": {
      "text/plain": [
       "['domingo', 'lunes', 'martes', 'miercoles', 'jueves', 'viernes', 'sabado']"
      ]
     },
     "metadata": {},
     "execution_count": 11
    }
   ],
   "source": [
    "dias[:]"
   ]
  },
  {
   "source": [
    "**Ejemplo:** Todos los dias salvo el primero y el ultimo."
   ],
   "cell_type": "markdown",
   "metadata": {}
  },
  {
   "cell_type": "code",
   "execution_count": 12,
   "metadata": {},
   "outputs": [
    {
     "output_type": "execute_result",
     "data": {
      "text/plain": [
       "['lunes', 'martes', 'miercoles', 'jueves', 'viernes']"
      ]
     },
     "metadata": {},
     "execution_count": 12
    }
   ],
   "source": [
    "dias[1:-1]"
   ]
  },
  {
   "source": [
    "**Ejemplo:** los do ultimos dias."
   ],
   "cell_type": "markdown",
   "metadata": {}
  },
  {
   "cell_type": "code",
   "execution_count": 13,
   "metadata": {},
   "outputs": [
    {
     "output_type": "execute_result",
     "data": {
      "text/plain": [
       "['viernes', 'sabado']"
      ]
     },
     "metadata": {},
     "execution_count": 13
    }
   ],
   "source": [
    "dias[-2:]"
   ]
  },
  {
   "source": [
    "# Modificar listas"
   ],
   "cell_type": "markdown",
   "metadata": {}
  },
  {
   "cell_type": "code",
   "execution_count": 14,
   "metadata": {},
   "outputs": [
    {
     "output_type": "execute_result",
     "data": {
      "text/plain": [
       "['domingo', 'lunes', 'perrito', 'miercoles', 'jueves', 'viernes', 'sabado']"
      ]
     },
     "metadata": {},
     "execution_count": 14
    }
   ],
   "source": [
    "dias[2] = \"perrito\"\n",
    "dias"
   ]
  },
  {
   "cell_type": "code",
   "execution_count": 15,
   "metadata": {},
   "outputs": [
    {
     "output_type": "execute_result",
     "data": {
      "text/plain": [
       "['dooo', 'luuu', 'perrito', 'miercoles', 'jueves', 'viernes', 'sabado']"
      ]
     },
     "metadata": {},
     "execution_count": 15
    }
   ],
   "source": [
    "dias[:2] = [\"dooo\", \"luuu\"] \n",
    "dias"
   ]
  },
  {
   "cell_type": "code",
   "execution_count": 16,
   "metadata": {},
   "outputs": [
    {
     "output_type": "execute_result",
     "data": {
      "text/plain": [
       "['domingo', 'lunes', 'martes', 'miercoles', 'jueves', 'viernes', 'sabado']"
      ]
     },
     "metadata": {},
     "execution_count": 16
    }
   ],
   "source": [
    "# corregir\n",
    "dias[:3] = [\"domingo\", \"lunes\", \"martes\"]\n",
    "dias"
   ]
  },
  {
   "source": [
    "# Funciones aplicables a listas"
   ],
   "cell_type": "markdown",
   "metadata": {}
  },
  {
   "source": [
    "`len` devuelve el largo de una lista."
   ],
   "cell_type": "markdown",
   "metadata": {}
  },
  {
   "cell_type": "code",
   "execution_count": 17,
   "metadata": {},
   "outputs": [
    {
     "output_type": "execute_result",
     "data": {
      "text/plain": [
       "7"
      ]
     },
     "metadata": {},
     "execution_count": 17
    }
   ],
   "source": [
    "# cuantos dias hay?\n",
    "len(dias)"
   ]
  },
  {
   "source": [
    "`sorted` ordena los valores de una lista en orden alfabetico."
   ],
   "cell_type": "markdown",
   "metadata": {}
  },
  {
   "cell_type": "code",
   "execution_count": 18,
   "metadata": {},
   "outputs": [
    {
     "output_type": "execute_result",
     "data": {
      "text/plain": [
       "['domingo', 'jueves', 'lunes', 'martes', 'miercoles', 'sabado', 'viernes']"
      ]
     },
     "metadata": {},
     "execution_count": 18
    }
   ],
   "source": [
    "sorted(dias)"
   ]
  },
  {
   "cell_type": "code",
   "execution_count": 19,
   "metadata": {},
   "outputs": [
    {
     "output_type": "execute_result",
     "data": {
      "text/plain": [
       "[1, 3, 5]"
      ]
     },
     "metadata": {},
     "execution_count": 19
    }
   ],
   "source": [
    "sorted(impares)"
   ]
  },
  {
   "source": [
    "`sum` suma los elementos de una lista de valores numericos."
   ],
   "cell_type": "markdown",
   "metadata": {}
  },
  {
   "cell_type": "code",
   "execution_count": 20,
   "metadata": {},
   "outputs": [
    {
     "output_type": "execute_result",
     "data": {
      "text/plain": [
       "17"
      ]
     },
     "metadata": {},
     "execution_count": 20
    }
   ],
   "source": [
    "primos = [2, 3, 5, 7]\n",
    "sum(primos)"
   ]
  },
  {
   "source": [
    "Que hara `max`?"
   ],
   "cell_type": "markdown",
   "metadata": {}
  },
  {
   "cell_type": "code",
   "execution_count": 21,
   "metadata": {},
   "outputs": [
    {
     "output_type": "execute_result",
     "data": {
      "text/plain": [
       "7"
      ]
     },
     "metadata": {},
     "execution_count": 21
    }
   ],
   "source": [
    "max(primos)"
   ]
  },
  {
   "source": [
    "# Metodos para listas\n",
    "\n",
    "`list.append` modifica la lista anadiendo un elemento al final."
   ],
   "cell_type": "markdown",
   "metadata": {}
  },
  {
   "cell_type": "code",
   "execution_count": 22,
   "metadata": {},
   "outputs": [
    {
     "output_type": "execute_result",
     "data": {
      "text/plain": [
       "['domingo',\n",
       " 'lunes',\n",
       " 'martes',\n",
       " 'miercoles',\n",
       " 'jueves',\n",
       " 'viernes',\n",
       " 'sabado',\n",
       " 'el octavo dia']"
      ]
     },
     "metadata": {},
     "execution_count": 22
    }
   ],
   "source": [
    "dias.append(\"el octavo dia\")\n",
    "dias"
   ]
  },
  {
   "source": [
    "`list.pop` remueve y devuelve el ultimo elemento de una lista."
   ],
   "cell_type": "markdown",
   "metadata": {}
  },
  {
   "cell_type": "code",
   "execution_count": 23,
   "metadata": {},
   "outputs": [
    {
     "output_type": "execute_result",
     "data": {
      "text/plain": [
       "'el octavo dia'"
      ]
     },
     "metadata": {},
     "execution_count": 23
    }
   ],
   "source": [
    "dias.pop()"
   ]
  },
  {
   "cell_type": "code",
   "execution_count": 24,
   "metadata": {},
   "outputs": [
    {
     "output_type": "execute_result",
     "data": {
      "text/plain": [
       "['domingo', 'lunes', 'martes', 'miercoles', 'jueves', 'viernes', 'sabado']"
      ]
     },
     "metadata": {},
     "execution_count": 24
    }
   ],
   "source": [
    "dias"
   ]
  },
  {
   "source": [
    "`list.index` ayuda a encontra el indice de un elemento"
   ],
   "cell_type": "markdown",
   "metadata": {}
  },
  {
   "cell_type": "code",
   "execution_count": 25,
   "metadata": {},
   "outputs": [
    {
     "output_type": "execute_result",
     "data": {
      "text/plain": [
       "2"
      ]
     },
     "metadata": {},
     "execution_count": 25
    }
   ],
   "source": [
    "dias.index(\"martes\")"
   ]
  },
  {
   "cell_type": "code",
   "execution_count": 26,
   "metadata": {},
   "outputs": [
    {
     "output_type": "execute_result",
     "data": {
      "text/plain": [
       "3"
      ]
     },
     "metadata": {},
     "execution_count": 26
    }
   ],
   "source": [
    "primos.index(7)"
   ]
  },
  {
   "source": [
    "Hay mas metodos para listas. Para concerlos todos, aplicar la funcion `help()` a un objeto de tipo lista."
   ],
   "cell_type": "markdown",
   "metadata": {}
  },
  {
   "cell_type": "code",
   "execution_count": 27,
   "metadata": {},
   "outputs": [
    {
     "output_type": "stream",
     "name": "stdout",
     "text": [
      "Help on list object:\n\nclass list(object)\n |  list(iterable=(), /)\n |  \n |  Built-in mutable sequence.\n |  \n |  If no argument is given, the constructor creates a new empty list.\n |  The argument must be an iterable if specified.\n |  \n |  Methods defined here:\n |  \n |  __add__(self, value, /)\n |      Return self+value.\n |  \n |  __contains__(self, key, /)\n |      Return key in self.\n |  \n |  __delitem__(self, key, /)\n |      Delete self[key].\n |  \n |  __eq__(self, value, /)\n |      Return self==value.\n |  \n |  __ge__(self, value, /)\n |      Return self>=value.\n |  \n |  __getattribute__(self, name, /)\n |      Return getattr(self, name).\n |  \n |  __getitem__(...)\n |      x.__getitem__(y) <==> x[y]\n |  \n |  __gt__(self, value, /)\n |      Return self>value.\n |  \n |  __iadd__(self, value, /)\n |      Implement self+=value.\n |  \n |  __imul__(self, value, /)\n |      Implement self*=value.\n |  \n |  __init__(self, /, *args, **kwargs)\n |      Initialize self.  See help(type(self)) for accurate signature.\n |  \n |  __iter__(self, /)\n |      Implement iter(self).\n |  \n |  __le__(self, value, /)\n |      Return self<=value.\n |  \n |  __len__(self, /)\n |      Return len(self).\n |  \n |  __lt__(self, value, /)\n |      Return self<value.\n |  \n |  __mul__(self, value, /)\n |      Return self*value.\n |  \n |  __ne__(self, value, /)\n |      Return self!=value.\n |  \n |  __repr__(self, /)\n |      Return repr(self).\n |  \n |  __reversed__(self, /)\n |      Return a reverse iterator over the list.\n |  \n |  __rmul__(self, value, /)\n |      Return value*self.\n |  \n |  __setitem__(self, key, value, /)\n |      Set self[key] to value.\n |  \n |  __sizeof__(self, /)\n |      Return the size of the list in memory, in bytes.\n |  \n |  append(self, object, /)\n |      Append object to the end of the list.\n |  \n |  clear(self, /)\n |      Remove all items from list.\n |  \n |  copy(self, /)\n |      Return a shallow copy of the list.\n |  \n |  count(self, value, /)\n |      Return number of occurrences of value.\n |  \n |  extend(self, iterable, /)\n |      Extend list by appending elements from the iterable.\n |  \n |  index(self, value, start=0, stop=9223372036854775807, /)\n |      Return first index of value.\n |      \n |      Raises ValueError if the value is not present.\n |  \n |  insert(self, index, object, /)\n |      Insert object before index.\n |  \n |  pop(self, index=-1, /)\n |      Remove and return item at index (default last).\n |      \n |      Raises IndexError if list is empty or index is out of range.\n |  \n |  remove(self, value, /)\n |      Remove first occurrence of value.\n |      \n |      Raises ValueError if the value is not present.\n |  \n |  reverse(self, /)\n |      Reverse *IN PLACE*.\n |  \n |  sort(self, /, *, key=None, reverse=False)\n |      Sort the list in ascending order and return None.\n |      \n |      The sort is in-place (i.e. the list itself is modified) and stable (i.e. the\n |      order of two equal elements is maintained).\n |      \n |      If a key function is given, apply it once to each list item and sort them,\n |      ascending or descending, according to their function values.\n |      \n |      The reverse flag can be set to sort in descending order.\n |  \n |  ----------------------------------------------------------------------\n |  Static methods defined here:\n |  \n |  __new__(*args, **kwargs) from builtins.type\n |      Create and return a new object.  See help(type) for accurate signature.\n |  \n |  ----------------------------------------------------------------------\n |  Data and other attributes defined here:\n |  \n |  __hash__ = None\n\n"
     ]
    }
   ],
   "source": [
    "help(dias)"
   ]
  }
 ]
}