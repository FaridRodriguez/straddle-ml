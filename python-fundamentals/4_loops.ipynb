{
 "metadata": {
  "language_info": {
   "codemirror_mode": {
    "name": "ipython",
    "version": 3
   },
   "file_extension": ".py",
   "mimetype": "text/x-python",
   "name": "python",
   "nbconvert_exporter": "python",
   "pygments_lexer": "ipython3",
   "version": "3.8.5"
  },
  "orig_nbformat": 4,
  "kernelspec": {
   "name": "python3",
   "display_name": "Python 3.8.5 64-bit ('Python38')"
  },
  "interpreter": {
   "hash": "5c0372ed38b372118c24adb00d45654d76c8d10261533c5724e3f5fc1d75489a"
  }
 },
 "nbformat": 4,
 "nbformat_minor": 2,
 "cells": [
  {
   "source": [
    "# Loops\n",
    "\n",
    "Los loops son una manera de ejecutar codigo de manera repetida. Por ejemplo:"
   ],
   "cell_type": "markdown",
   "metadata": {}
  },
  {
   "cell_type": "code",
   "execution_count": 1,
   "metadata": {},
   "outputs": [
    {
     "output_type": "stream",
     "name": "stdout",
     "text": [
      "domingo\nlunes\nmartes\nmiercoles\njueves\nviernes\nsabado\n"
     ]
    }
   ],
   "source": [
    "dias = ['domingo', 'lunes', 'martes', 'miercoles', 'jueves', 'viernes', 'sabado']\n",
    "\n",
    "for dia in dias:\n",
    "    print(dia)"
   ]
  },
  {
   "source": [
    "El loop `for` requiere:\n",
    "\n",
    "- un nombre de variable a usar (`dia` en el ejemplo anterior)\n",
    "- un conjunto de valores sobre los cuales iterar (`dias` en el ejempo anterior)\n",
    "- usar la palabra `in` para unirlos\n",
    "\n",
    "El objeto a la derecha de `in` puede ser cualquiera que soporte *iteraciones*. Estos objetos se llaman ***iterable***. Por ejemplo un tuple:"
   ],
   "cell_type": "markdown",
   "metadata": {}
  },
  {
   "cell_type": "code",
   "execution_count": 2,
   "metadata": {},
   "outputs": [
    {
     "output_type": "stream",
     "name": "stdout",
     "text": [
      "2\n4\n8\n24\n72\n360\nEl valor final de 'producto' es: 360\n"
     ]
    }
   ],
   "source": [
    "multiplicandos = (2, 2, 2, 3, 3, 5)\n",
    "producto = 1\n",
    "\n",
    "for mult in multiplicandos:\n",
    "    producto = producto * mult\n",
    "    print(producto)\n",
    "\n",
    "print(\"El valor final de 'producto' es:\", producto)"
   ]
  },
  {
   "source": [
    "Incluso se puede iterar sobre cada caracter de un `string`."
   ],
   "cell_type": "markdown",
   "metadata": {}
  },
  {
   "cell_type": "code",
   "execution_count": 3,
   "metadata": {},
   "outputs": [
    {
     "output_type": "stream",
     "name": "stdout",
     "text": [
      "H\nO\nL\nA\n"
     ]
    }
   ],
   "source": [
    "s = \"Hola a todOs, estamos muy feLices de tenerles Aqui.\"\n",
    "\n",
    "for char in s:\n",
    "    if char.isupper():\n",
    "        print(char)"
   ]
  },
  {
   "source": [
    "## `range()`\n",
    "`range` es una funcion muy util que genera un iterable de numeros consecutivos. Es muy uytil para hacer loops."
   ],
   "cell_type": "markdown",
   "metadata": {}
  },
  {
   "cell_type": "code",
   "execution_count": 4,
   "metadata": {},
   "outputs": [
    {
     "output_type": "stream",
     "name": "stdout",
     "text": [
      "Estamos haciendo un trabajo importante. i =  0\nEstamos haciendo un trabajo importante. i =  1\nEstamos haciendo un trabajo importante. i =  2\nEstamos haciendo un trabajo importante. i =  3\nEstamos haciendo un trabajo importante. i =  4\n"
     ]
    }
   ],
   "source": [
    "for i in range(5):\n",
    "    print(\"Estamos haciendo un trabajo importante. i = \", i)"
   ]
  },
  {
   "source": [
    "## `while` loops\n",
    "Otro tipo de loop son los `while` loops, que iteran hasta que se cumpla una condicion:"
   ],
   "cell_type": "markdown",
   "metadata": {}
  },
  {
   "cell_type": "code",
   "execution_count": 5,
   "metadata": {
    "tags": []
   },
   "outputs": [
    {
     "output_type": "stream",
     "name": "stdout",
     "text": [
      "0\n1\n2\n3\n4\n5\n6\n7\n8\n9\n"
     ]
    }
   ],
   "source": [
    "i = 0\n",
    "\n",
    "while i < 10:\n",
    "    print(i)\n",
    "    i += 1  # incrementar i en 1."
   ]
  }
 ]
}