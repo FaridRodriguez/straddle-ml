{
 "metadata": {
  "language_info": {
   "codemirror_mode": {
    "name": "ipython",
    "version": 3
   },
   "file_extension": ".py",
   "mimetype": "text/x-python",
   "name": "python",
   "nbconvert_exporter": "python",
   "pygments_lexer": "ipython3",
   "version": "3.8.5"
  },
  "orig_nbformat": 4,
  "kernelspec": {
   "name": "python3",
   "display_name": "Python 3.8.5 64-bit ('Python38')"
  },
  "interpreter": {
   "hash": "5c0372ed38b372118c24adb00d45654d76c8d10261533c5724e3f5fc1d75489a"
  }
 },
 "nbformat": 4,
 "nbformat_minor": 2,
 "cells": [
  {
   "source": [
    "# Dictionaries\n",
    "Los dictionarios son una estructura de datos de Python que permite asociar (map) ***keys*** con **valores**."
   ],
   "cell_type": "markdown",
   "metadata": {}
  },
  {
   "cell_type": "code",
   "execution_count": 1,
   "metadata": {},
   "outputs": [
    {
     "output_type": "execute_result",
     "data": {
      "text/plain": [
       "{'uno': 1, 'dos': 2, 'tres': 3}"
      ]
     },
     "metadata": {},
     "execution_count": 1
    }
   ],
   "source": [
    "numeros = {\"uno\":1, \"dos\":2, 'tres':3}\n",
    "numeros"
   ]
  },
  {
   "source": [
    "En este caso `\"uno\"`, `\"dos\"` y `\"tres\"`, son los **keys**; 1, 2, y 3 son los valores correspondientes.\n",
    "\n",
    "Se puede acceder a los valores usando `[]` tal como se hacia con las listas."
   ],
   "cell_type": "markdown",
   "metadata": {}
  },
  {
   "cell_type": "code",
   "execution_count": 2,
   "metadata": {},
   "outputs": [
    {
     "output_type": "execute_result",
     "data": {
      "text/plain": [
       "1"
      ]
     },
     "metadata": {},
     "execution_count": 2
    }
   ],
   "source": [
    "numeros[\"uno\"]"
   ]
  },
  {
   "source": [
    "Incluso se puede usar la misma sintaxis para agregar otras `keys`."
   ],
   "cell_type": "markdown",
   "metadata": {}
  },
  {
   "cell_type": "code",
   "execution_count": 3,
   "metadata": {},
   "outputs": [
    {
     "output_type": "execute_result",
     "data": {
      "text/plain": [
       "{'uno': 1, 'dos': 2, 'tres': 3, 'nueve': 9}"
      ]
     },
     "metadata": {},
     "execution_count": 3
    }
   ],
   "source": [
    "numeros[\"nueve\"] = 9\n",
    "numeros"
   ]
  },
  {
   "source": [
    "Lo mismo se puede hacer para reemplazar valores."
   ],
   "cell_type": "markdown",
   "metadata": {}
  },
  {
   "cell_type": "code",
   "execution_count": 4,
   "metadata": {},
   "outputs": [
    {
     "output_type": "execute_result",
     "data": {
      "text/plain": [
       "{'uno': 'domingo', 'dos': 2, 'tres': 3, 'nueve': 9}"
      ]
     },
     "metadata": {},
     "execution_count": 4
    }
   ],
   "source": [
    "numeros[\"uno\"] = \"domingo\"\n",
    "numeros"
   ]
  },
  {
   "source": [
    "Los `for` loops aplicados a diccionarios iteran sobre sus `keys`:"
   ],
   "cell_type": "markdown",
   "metadata": {}
  },
  {
   "cell_type": "code",
   "execution_count": 5,
   "metadata": {},
   "outputs": [
    {
     "output_type": "stream",
     "name": "stdout",
     "text": [
      "uno = domingo\ndos = 2\ntres = 3\nnueve = 9\n"
     ]
    }
   ],
   "source": [
    "for k in numeros:\n",
    "    print(f\"{k} = {numeros[k]}\")"
   ]
  },
  {
   "source": [
    "Tambieen se puede generar iterables con los keys y valores usando los metodos `dict.keys()` y `dict.values()`, respectivamente."
   ],
   "cell_type": "markdown",
   "metadata": {}
  },
  {
   "cell_type": "code",
   "execution_count": 6,
   "metadata": {},
   "outputs": [
    {
     "output_type": "execute_result",
     "data": {
      "text/plain": [
       "dict_values(['domingo', 2, 3, 9])"
      ]
     },
     "metadata": {},
     "execution_count": 6
    }
   ],
   "source": [
    "# mostrar los valores del diccionario 'numeros'\n",
    "numeros.values()"
   ]
  },
  {
   "cell_type": "code",
   "execution_count": 7,
   "metadata": {},
   "outputs": [
    {
     "output_type": "stream",
     "name": "stdout",
     "text": [
      "False\nFalse\nTrue\nFalse\n"
     ]
    }
   ],
   "source": [
    "# evaluar si alguno de los valores es igual a 3\n",
    "for v in numeros.values():\n",
    "    print(v == 3)"
   ]
  }
 ]
}